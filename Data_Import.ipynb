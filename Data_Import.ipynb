{
 "cells": [
  {
   "cell_type": "code",
   "execution_count": 1,
   "id": "6e92d14d",
   "metadata": {},
   "outputs": [],
   "source": [
    "import pandas as pd\n",
    "import numpy as np\n",
    "import re\n",
    "from tabulate import tabulate\n",
    "import matplotlib.pyplot as plt \n",
    "import glob\n",
    "import os"
   ]
  },
  {
   "cell_type": "code",
   "execution_count": 2,
   "id": "f717ee8a",
   "metadata": {},
   "outputs": [],
   "source": [
    "df1 = pd.read_csv('data/2020new/Divvy_Trips_2020_Q1.csv')\n",
    "df2 = pd.read_csv('data/2020old/Divvy_Trips_2019_Q1.csv')\n",
    "#df3 = pd.read_csv('data/2020old/Divvy_Trips_2019_Q2.csv')\n",
    "\n"
   ]
  },
  {
   "cell_type": "code",
   "execution_count": 3,
   "id": "245ce908",
   "metadata": {},
   "outputs": [],
   "source": [
    "# Files after 2020 have the same schema and files before 2020 have the same schema\n",
    "# Exception for Divvy_Trips_2018_Q1.csv and data/2020old/Divvy_Trips_2019_Q2.csv\n",
    "# This file will be seperately added after formatting"
   ]
  },
  {
   "cell_type": "code",
   "execution_count": 4,
   "id": "1d3e6e94",
   "metadata": {},
   "outputs": [
    {
     "name": "stdout",
     "output_type": "stream",
     "text": [
      "Post-2020\n",
      "+---------+---------------+------------+----------+--------------------+------------------+------------------+----------------+-----------+-----------+---------+---------+---------------+\n",
      "| ride_id | rideable_type | started_at | ended_at | start_station_name | start_station_id | end_station_name | end_station_id | start_lat | start_lng | end_lat | end_lng | member_casual |\n",
      "+---------+---------------+------------+----------+--------------------+------------------+------------------+----------------+-----------+-----------+---------+---------+---------------+\n",
      "Pre-2020\n",
      "+---------+------------+----------+--------+--------------+-----------------+-------------------+---------------+-----------------+----------+--------+-----------+\n",
      "| trip_id | start_time | end_time | bikeid | tripduration | from_station_id | from_station_name | to_station_id | to_station_name | usertype | gender | birthyear |\n",
      "+---------+------------+----------+--------+--------------+-----------------+-------------------+---------------+-----------------+----------+--------+-----------+\n"
     ]
    }
   ],
   "source": [
    "tmp1 = [df1.columns.values]\n",
    "\n",
    "tmp2 = [df2.columns.values\n",
    "        #df3.columns.values\n",
    "       ]\n",
    "\n",
    "print(\"Post-2020\")\n",
    "print(tabulate(tmp1, tablefmt=\"grid\"))\n",
    "print(\"Pre-2020\")\n",
    "print(tabulate(tmp2, tablefmt=\"grid\"))"
   ]
  },
  {
   "cell_type": "code",
   "execution_count": 5,
   "id": "de5baa7d",
   "metadata": {},
   "outputs": [],
   "source": [
    "def merge_files(path):\n",
    "    all_files = glob.glob(os.path.join(path , \"*.csv\"))\n",
    "\n",
    "    li = []\n",
    "\n",
    "    for filename in all_files:\n",
    "        df = pd.read_csv(filename, index_col=None, header=0)\n",
    "        li.append(df)\n",
    "\n",
    "    df = pd.concat(li, axis=0, ignore_index=True)\n",
    "    return df"
   ]
  },
  {
   "cell_type": "code",
   "execution_count": 6,
   "id": "93f63b6e",
   "metadata": {},
   "outputs": [],
   "source": [
    "# path = r'.\\data\\2020new'\n",
    "\n",
    "# df = merge_files(path)\n",
    "# df.to_csv('.\\data\\post_2020_data.csv', index=False)"
   ]
  },
  {
   "cell_type": "code",
   "execution_count": 7,
   "id": "7ccb0570",
   "metadata": {},
   "outputs": [
    {
     "name": "stderr",
     "output_type": "stream",
     "text": [
      "C:\\Users\\songs\\AppData\\Local\\Temp\\ipykernel_14140\\1019442151.py:7: DtypeWarning: Columns (10) have mixed types. Specify dtype option on import or set low_memory=False.\n",
      "  df = pd.read_csv(filename, index_col=None, header=0)\n"
     ]
    }
   ],
   "source": [
    "path = r'.\\data\\2020old'\n",
    "\n",
    "df = merge_files(path)\n",
    "df.to_csv('.\\data\\pre_2020_data.csv', index=False)"
   ]
  },
  {
   "cell_type": "code",
   "execution_count": 8,
   "id": "2b3aebdf",
   "metadata": {},
   "outputs": [
    {
     "name": "stdout",
     "output_type": "stream",
     "text": [
      "<class 'pandas.core.frame.DataFrame'>\n",
      "RangeIndex: 19748036 entries, 0 to 19748035\n",
      "Data columns (total 15 columns):\n",
      " #   Column             Dtype  \n",
      "---  ------             -----  \n",
      " 0   trip_id            int64  \n",
      " 1   starttime          object \n",
      " 2   stoptime           object \n",
      " 3   bikeid             int64  \n",
      " 4   tripduration       object \n",
      " 5   from_station_id    int64  \n",
      " 6   from_station_name  object \n",
      " 7   to_station_id      int64  \n",
      " 8   to_station_name    object \n",
      " 9   usertype           object \n",
      " 10  gender             object \n",
      " 11  birthday           float64\n",
      " 12  birthyear          float64\n",
      " 13  start_time         object \n",
      " 14  end_time           object \n",
      "dtypes: float64(2), int64(4), object(9)\n",
      "memory usage: 2.2+ GB\n"
     ]
    }
   ],
   "source": [
    "df.info()"
   ]
  },
  {
   "cell_type": "code",
   "execution_count": null,
   "id": "b3b5cb2f",
   "metadata": {},
   "outputs": [],
   "source": []
  }
 ],
 "metadata": {
  "kernelspec": {
   "display_name": "Python 3 (ipykernel)",
   "language": "python",
   "name": "python3"
  },
  "language_info": {
   "codemirror_mode": {
    "name": "ipython",
    "version": 3
   },
   "file_extension": ".py",
   "mimetype": "text/x-python",
   "name": "python",
   "nbconvert_exporter": "python",
   "pygments_lexer": "ipython3",
   "version": "3.9.13"
  }
 },
 "nbformat": 4,
 "nbformat_minor": 5
}
